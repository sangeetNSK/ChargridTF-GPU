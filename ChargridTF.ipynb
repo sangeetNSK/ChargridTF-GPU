{
 "cells": [
  {
   "cell_type": "code",
   "execution_count": 2,
   "id": "cfdac3c4",
   "metadata": {},
   "outputs": [],
   "source": [
    "import numpy as np\n",
    "import pandas as pd\n",
    "import matplotlib.pyplot as plt\n",
    "import pytesseract as te\n",
    "import os\n",
    "import re\n",
    "import json\n",
    "\n"
   ]
  },
  {
   "cell_type": "code",
   "execution_count": 3,
   "id": "8eb78b08",
   "metadata": {},
   "outputs": [],
   "source": [
    "from sklearn.feature_extraction.text import CountVectorizer\n",
    "from sklearn.metrics.pairwise import cosine_similarity"
   ]
  },
  {
   "cell_type": "code",
   "execution_count": 5,
   "id": "52452d9e",
   "metadata": {},
   "outputs": [
    {
     "name": "stdout",
     "output_type": "stream",
     "text": [
      "Collecting config\n",
      "  Using cached config-0.5.0.post0-py2.py3-none-any.whl (20 kB)\n",
      "Installing collected packages: config\n",
      "Successfully installed config-0.5.0.post0\n",
      "Note: you may need to restart the kernel to use updated packages.\n"
     ]
    }
   ],
   "source": [
    "pip install config"
   ]
  },
  {
   "cell_type": "code",
   "execution_count": 3,
   "id": "5ea40532",
   "metadata": {},
   "outputs": [
    {
     "name": "stdout",
     "output_type": "stream",
     "text": [
      "Requirement already satisfied: sklearn in c:\\users\\u1092599\\.conda\\envs\\tenserflow\\lib\\site-packages (0.0)\n",
      "Requirement already satisfied: scikit-learn in c:\\users\\u1092599\\.conda\\envs\\tenserflow\\lib\\site-packages (from sklearn) (0.24.2)\n",
      "Requirement already satisfied: numpy>=1.13.3 in c:\\users\\u1092599\\.conda\\envs\\tenserflow\\lib\\site-packages (from scikit-learn->sklearn) (1.18.5)\n",
      "Requirement already satisfied: scipy>=0.19.1 in c:\\users\\u1092599\\.conda\\envs\\tenserflow\\lib\\site-packages (from scikit-learn->sklearn) (1.4.1)\n",
      "Requirement already satisfied: joblib>=0.11 in c:\\users\\u1092599\\.conda\\envs\\tenserflow\\lib\\site-packages (from scikit-learn->sklearn) (1.0.1)\n",
      "Requirement already satisfied: threadpoolctl>=2.0.0 in c:\\users\\u1092599\\.conda\\envs\\tenserflow\\lib\\site-packages (from scikit-learn->sklearn) (2.1.0)\n",
      "Note: you may need to restart the kernel to use updated packages.\n"
     ]
    }
   ],
   "source": [
    "pip install sklearn"
   ]
  },
  {
   "cell_type": "code",
   "execution_count": 2,
   "id": "d848773b",
   "metadata": {},
   "outputs": [
    {
     "name": "stdout",
     "output_type": "stream",
     "text": [
      "Collecting scikit-image\n",
      "  Downloading scikit_image-0.18.1-cp38-cp38-win_amd64.whl (12.2 MB)\n",
      "Requirement already satisfied: matplotlib!=3.0.0,>=2.0.0 in c:\\users\\u1092599\\.conda\\envs\\tenserflow\\lib\\site-packages (from scikit-image) (3.3.4)\n",
      "Collecting imageio>=2.3.0\n",
      "  Using cached imageio-2.9.0-py3-none-any.whl (3.3 MB)\n",
      "Collecting networkx>=2.0\n",
      "  Using cached networkx-2.5.1-py3-none-any.whl (1.6 MB)\n",
      "Requirement already satisfied: scipy>=1.0.1 in c:\\users\\u1092599\\.conda\\envs\\tenserflow\\lib\\site-packages (from scikit-image) (1.4.1)\n",
      "Collecting PyWavelets>=1.1.1\n",
      "  Using cached PyWavelets-1.1.1-cp38-cp38-win_amd64.whl (4.3 MB)\n",
      "Requirement already satisfied: numpy>=1.16.5 in c:\\users\\u1092599\\.conda\\envs\\tenserflow\\lib\\site-packages (from scikit-image) (1.18.5)\n",
      "Note: you may need to restart the kernel to use updated packages.\n",
      "Collecting tifffile>=2019.7.26\n",
      "  Using cached tifffile-2021.6.14-py3-none-any.whl (169 kB)\n",
      "Requirement already satisfied: pillow!=7.1.0,!=7.1.1,>=4.3.0 in c:\\users\\u1092599\\.conda\\envs\\tenserflow\\lib\\site-packages (from scikit-image) (8.2.0)\n",
      "Requirement already satisfied: kiwisolver>=1.0.1 in c:\\users\\u1092599\\.conda\\envs\\tenserflow\\lib\\site-packages (from matplotlib!=3.0.0,>=2.0.0->scikit-image) (1.3.1)\n",
      "Requirement already satisfied: pyparsing!=2.0.4,!=2.1.2,!=2.1.6,>=2.0.3 in c:\\users\\u1092599\\.conda\\envs\\tenserflow\\lib\\site-packages (from matplotlib!=3.0.0,>=2.0.0->scikit-image) (2.4.7)\n",
      "Requirement already satisfied: python-dateutil>=2.1 in c:\\users\\u1092599\\.conda\\envs\\tenserflow\\lib\\site-packages (from matplotlib!=3.0.0,>=2.0.0->scikit-image) (2.8.1)\n",
      "Requirement already satisfied: cycler>=0.10 in c:\\users\\u1092599\\.conda\\envs\\tenserflow\\lib\\site-packages (from matplotlib!=3.0.0,>=2.0.0->scikit-image) (0.10.0)\n",
      "Requirement already satisfied: six in c:\\users\\u1092599\\.conda\\envs\\tenserflow\\lib\\site-packages (from cycler>=0.10->matplotlib!=3.0.0,>=2.0.0->scikit-image) (1.15.0)\n",
      "Collecting decorator<5,>=4.3\n",
      "  Using cached decorator-4.4.2-py2.py3-none-any.whl (9.2 kB)\n",
      "Installing collected packages: decorator, tifffile, PyWavelets, networkx, imageio, scikit-image\n",
      "  Attempting uninstall: decorator\n",
      "    Found existing installation: decorator 5.0.9\n",
      "    Uninstalling decorator-5.0.9:\n",
      "      Successfully uninstalled decorator-5.0.9\n",
      "Successfully installed PyWavelets-1.1.1 decorator-4.4.2 imageio-2.9.0 networkx-2.5.1 scikit-image-0.18.1 tifffile-2021.6.14\n"
     ]
    }
   ],
   "source": [
    "pip install scikit-image"
   ]
  },
  {
   "cell_type": "code",
   "execution_count": 1,
   "id": "17546266",
   "metadata": {},
   "outputs": [
    {
     "name": "stdout",
     "output_type": "stream",
     "text": [
      "Collecting tensorflow==2.5.0Note: you may need to restart the kernel to use updated packages.\n",
      "  Using cached tensorflow-2.5.0-cp38-cp38-win_amd64.whl (422.6 MB)\n"
     ]
    },
    {
     "name": "stderr",
     "output_type": "stream",
     "text": [
      "ERROR: Could not install packages due to an OSError: [WinError 5] Access is denied: 'C:\\\\Users\\\\u1092599\\\\.conda\\\\envs\\\\tenserflow\\\\Lib\\\\site-packages\\\\~umpy\\\\.libs\\\\libopenblas.PYQHXLVVQ7VESDPUVUADXEVJOBGHJPAY.gfortran-win_amd64.dll'\n",
      "Consider using the `--user` option or check the permissions.\n",
      "\n"
     ]
    },
    {
     "name": "stdout",
     "output_type": "stream",
     "text": [
      "\n",
      "Collecting h5py~=3.1.0\n",
      "  Using cached h5py-3.1.0-cp38-cp38-win_amd64.whl (2.7 MB)\n",
      "Requirement already satisfied: wrapt~=1.12.1 in c:\\users\\u1092599\\.conda\\envs\\tenserflow\\lib\\site-packages (from tensorflow==2.5.0) (1.12.1)\n",
      "Collecting numpy~=1.19.2\n",
      "  Downloading numpy-1.19.5-cp38-cp38-win_amd64.whl (13.3 MB)\n",
      "Requirement already satisfied: termcolor~=1.1.0 in c:\\users\\u1092599\\.conda\\envs\\tenserflow\\lib\\site-packages (from tensorflow==2.5.0) (1.1.0)\n",
      "Collecting tensorflow-estimator<2.6.0,>=2.5.0rc0\n",
      "  Using cached tensorflow_estimator-2.5.0-py2.py3-none-any.whl (462 kB)\n",
      "Requirement already satisfied: google-pasta~=0.2 in c:\\users\\u1092599\\.conda\\envs\\tenserflow\\lib\\site-packages (from tensorflow==2.5.0) (0.2.0)\n",
      "Collecting flatbuffers~=1.12.0\n",
      "  Using cached flatbuffers-1.12-py2.py3-none-any.whl (15 kB)\n",
      "Requirement already satisfied: opt-einsum~=3.3.0 in c:\\users\\u1092599\\.conda\\envs\\tenserflow\\lib\\site-packages (from tensorflow==2.5.0) (3.3.0)\n",
      "Requirement already satisfied: keras-preprocessing~=1.1.2 in c:\\users\\u1092599\\.conda\\envs\\tenserflow\\lib\\site-packages (from tensorflow==2.5.0) (1.1.2)\n",
      "Requirement already satisfied: protobuf>=3.9.2 in c:\\users\\u1092599\\.conda\\envs\\tenserflow\\lib\\site-packages (from tensorflow==2.5.0) (3.14.0)\n",
      "Requirement already satisfied: wheel~=0.35 in c:\\users\\u1092599\\.conda\\envs\\tenserflow\\lib\\site-packages (from tensorflow==2.5.0) (0.36.2)\n",
      "Requirement already satisfied: absl-py~=0.10 in c:\\users\\u1092599\\.conda\\envs\\tenserflow\\lib\\site-packages (from tensorflow==2.5.0) (0.12.0)\n",
      "Requirement already satisfied: typing-extensions~=3.7.4 in c:\\users\\u1092599\\.conda\\envs\\tenserflow\\lib\\site-packages (from tensorflow==2.5.0) (3.7.4.3)\n",
      "Requirement already satisfied: astunparse~=1.6.3 in c:\\users\\u1092599\\.conda\\envs\\tenserflow\\lib\\site-packages (from tensorflow==2.5.0) (1.6.3)\n",
      "Requirement already satisfied: six~=1.15.0 in c:\\users\\u1092599\\.conda\\envs\\tenserflow\\lib\\site-packages (from tensorflow==2.5.0) (1.15.0)\n",
      "Collecting gast==0.4.0\n",
      "  Using cached gast-0.4.0-py3-none-any.whl (9.8 kB)\n",
      "Collecting keras-nightly~=2.5.0.dev\n",
      "  Using cached keras_nightly-2.5.0.dev2021032900-py2.py3-none-any.whl (1.2 MB)\n",
      "Collecting tensorboard~=2.5\n",
      "  Using cached tensorboard-2.5.0-py3-none-any.whl (6.0 MB)\n",
      "Collecting grpcio~=1.34.0\n",
      "  Using cached grpcio-1.34.1-cp38-cp38-win_amd64.whl (2.9 MB)\n",
      "Requirement already satisfied: markdown>=2.6.8 in c:\\users\\u1092599\\.conda\\envs\\tenserflow\\lib\\site-packages (from tensorboard~=2.5->tensorflow==2.5.0) (3.3.4)\n",
      "Requirement already satisfied: tensorboard-plugin-wit>=1.6.0 in c:\\users\\u1092599\\.conda\\envs\\tenserflow\\lib\\site-packages (from tensorboard~=2.5->tensorflow==2.5.0) (1.6.0)\n",
      "Collecting tensorboard-data-server<0.7.0,>=0.6.0\n",
      "  Using cached tensorboard_data_server-0.6.1-py3-none-any.whl (2.4 kB)\n",
      "Requirement already satisfied: requests<3,>=2.21.0 in c:\\users\\u1092599\\.conda\\envs\\tenserflow\\lib\\site-packages (from tensorboard~=2.5->tensorflow==2.5.0) (2.25.1)\n",
      "Requirement already satisfied: google-auth-oauthlib<0.5,>=0.4.1 in c:\\users\\u1092599\\.conda\\envs\\tenserflow\\lib\\site-packages (from tensorboard~=2.5->tensorflow==2.5.0) (0.4.4)\n",
      "Requirement already satisfied: google-auth<2,>=1.6.3 in c:\\users\\u1092599\\.conda\\envs\\tenserflow\\lib\\site-packages (from tensorboard~=2.5->tensorflow==2.5.0) (1.30.1)\n",
      "Requirement already satisfied: werkzeug>=0.11.15 in c:\\users\\u1092599\\.conda\\envs\\tenserflow\\lib\\site-packages (from tensorboard~=2.5->tensorflow==2.5.0) (1.0.1)\n",
      "Requirement already satisfied: setuptools>=41.0.0 in c:\\users\\u1092599\\.conda\\envs\\tenserflow\\lib\\site-packages (from tensorboard~=2.5->tensorflow==2.5.0) (52.0.0.post20210125)\n",
      "Requirement already satisfied: cachetools<5.0,>=2.0.0 in c:\\users\\u1092599\\.conda\\envs\\tenserflow\\lib\\site-packages (from google-auth<2,>=1.6.3->tensorboard~=2.5->tensorflow==2.5.0) (4.2.2)\n",
      "Requirement already satisfied: rsa<5,>=3.1.4 in c:\\users\\u1092599\\.conda\\envs\\tenserflow\\lib\\site-packages (from google-auth<2,>=1.6.3->tensorboard~=2.5->tensorflow==2.5.0) (4.7.2)\n",
      "Requirement already satisfied: pyasn1-modules>=0.2.1 in c:\\users\\u1092599\\.conda\\envs\\tenserflow\\lib\\site-packages (from google-auth<2,>=1.6.3->tensorboard~=2.5->tensorflow==2.5.0) (0.2.8)\n",
      "Requirement already satisfied: requests-oauthlib>=0.7.0 in c:\\users\\u1092599\\.conda\\envs\\tenserflow\\lib\\site-packages (from google-auth-oauthlib<0.5,>=0.4.1->tensorboard~=2.5->tensorflow==2.5.0) (1.3.0)\n",
      "Requirement already satisfied: pyasn1<0.5.0,>=0.4.6 in c:\\users\\u1092599\\.conda\\envs\\tenserflow\\lib\\site-packages (from pyasn1-modules>=0.2.1->google-auth<2,>=1.6.3->tensorboard~=2.5->tensorflow==2.5.0) (0.4.8)\n",
      "Requirement already satisfied: urllib3<1.27,>=1.21.1 in c:\\users\\u1092599\\.conda\\envs\\tenserflow\\lib\\site-packages (from requests<3,>=2.21.0->tensorboard~=2.5->tensorflow==2.5.0) (1.26.4)\n",
      "Requirement already satisfied: certifi>=2017.4.17 in c:\\users\\u1092599\\.conda\\envs\\tenserflow\\lib\\site-packages (from requests<3,>=2.21.0->tensorboard~=2.5->tensorflow==2.5.0) (2021.5.30)\n",
      "Requirement already satisfied: chardet<5,>=3.0.2 in c:\\users\\u1092599\\.conda\\envs\\tenserflow\\lib\\site-packages (from requests<3,>=2.21.0->tensorboard~=2.5->tensorflow==2.5.0) (3.0.4)\n",
      "Requirement already satisfied: idna<3,>=2.5 in c:\\users\\u1092599\\.conda\\envs\\tenserflow\\lib\\site-packages (from requests<3,>=2.21.0->tensorboard~=2.5->tensorflow==2.5.0) (2.10)\n",
      "Requirement already satisfied: oauthlib>=3.0.0 in c:\\users\\u1092599\\.conda\\envs\\tenserflow\\lib\\site-packages (from requests-oauthlib>=0.7.0->google-auth-oauthlib<0.5,>=0.4.1->tensorboard~=2.5->tensorflow==2.5.0) (3.1.0)\n",
      "Installing collected packages: tensorboard-data-server, numpy, grpcio, tensorflow-estimator, tensorboard, keras-nightly, h5py, gast, flatbuffers, tensorflow\n",
      "  Attempting uninstall: numpy\n",
      "    Found existing installation: numpy 1.18.5\n",
      "    Uninstalling numpy-1.18.5:\n",
      "      Successfully uninstalled numpy-1.18.5\n"
     ]
    }
   ],
   "source": [
    "pip install tensorflow==2.5.0"
   ]
  },
  {
   "cell_type": "code",
   "execution_count": 2,
   "id": "eee97461",
   "metadata": {},
   "outputs": [
    {
     "name": "stdout",
     "output_type": "stream",
     "text": [
      "Collecting tensorflow==2.5.0Note: you may need to restart the kernel to use updated packages.\n",
      "  Using cached tensorflow-2.5.0-cp38-cp38-win_amd64.whl (422.6 MB)\n",
      "Requirement already satisfied: opt-einsum~=3.3.0 in c:\\users\\u1092599\\.conda\\envs\\tenserflow\\lib\\site-packages (from tensorflow==2.5.0) (3.3.0)\n",
      "Requirement already satisfied: astunparse~=1.6.3 in c:\\users\\u1092599\\.conda\\envs\\tenserflow\\lib\\site-packages (from tensorflow==2.5.0) (1.6.3)\n",
      "Requirement already satisfied: numpy~=1.19.2 in c:\\users\\u1092599\\.conda\\envs\\tenserflow\\lib\\site-packages (from tensorflow==2.5.0) (1.19.5)\n",
      "Requirement already satisfied: wheel~=0.35 in c:\\users\\u1092599\\.conda\\envs\\tenserflow\\lib\\site-packages (from tensorflow==2.5.0) (0.36.2)\n",
      "Requirement already satisfied: protobuf>=3.9.2 in c:\\users\\u1092599\\.conda\\envs\\tenserflow\\lib\\site-packages (from tensorflow==2.5.0) (3.14.0)\n",
      "Requirement already satisfied: six~=1.15.0 in c:\\users\\u1092599\\.conda\\envs\\tenserflow\\lib\\site-packages (from tensorflow==2.5.0) (1.15.0)\n",
      "Requirement already satisfied: wrapt~=1.12.1 in c:\\users\\u1092599\\.conda\\envs\\tenserflow\\lib\\site-packages (from tensorflow==2.5.0) (1.12.1)\n",
      "Collecting tensorflow-estimator<2.6.0,>=2.5.0rc0\n",
      "\n",
      "  Using cached tensorflow_estimator-2.5.0-py2.py3-none-any.whl (462 kB)\n",
      "Requirement already satisfied: absl-py~=0.10 in c:\\users\\u1092599\\.conda\\envs\\tenserflow\\lib\\site-packages (from tensorflow==2.5.0) (0.12.0)\n",
      "Collecting h5py~=3.1.0\n",
      "  Using cached h5py-3.1.0-cp38-cp38-win_amd64.whl (2.7 MB)\n",
      "Requirement already satisfied: termcolor~=1.1.0 in c:\\users\\u1092599\\.conda\\envs\\tenserflow\\lib\\site-packages (from tensorflow==2.5.0) (1.1.0)\n",
      "Requirement already satisfied: typing-extensions~=3.7.4 in c:\\users\\u1092599\\.conda\\envs\\tenserflow\\lib\\site-packages (from tensorflow==2.5.0) (3.7.4.3)\n",
      "Requirement already satisfied: keras-preprocessing~=1.1.2 in c:\\users\\u1092599\\.conda\\envs\\tenserflow\\lib\\site-packages (from tensorflow==2.5.0) (1.1.2)\n",
      "Collecting tensorboard~=2.5\n",
      "  Using cached tensorboard-2.5.0-py3-none-any.whl (6.0 MB)\n",
      "Collecting grpcio~=1.34.0\n",
      "  Using cached grpcio-1.34.1-cp38-cp38-win_amd64.whl (2.9 MB)\n",
      "Collecting flatbuffers~=1.12.0\n",
      "  Using cached flatbuffers-1.12-py2.py3-none-any.whl (15 kB)\n",
      "Requirement already satisfied: google-pasta~=0.2 in c:\\users\\u1092599\\.conda\\envs\\tenserflow\\lib\\site-packages (from tensorflow==2.5.0) (0.2.0)\n",
      "Collecting gast==0.4.0\n",
      "  Using cached gast-0.4.0-py3-none-any.whl (9.8 kB)\n",
      "Collecting keras-nightly~=2.5.0.dev\n",
      "  Using cached keras_nightly-2.5.0.dev2021032900-py2.py3-none-any.whl (1.2 MB)\n",
      "Requirement already satisfied: tensorboard-plugin-wit>=1.6.0 in c:\\users\\u1092599\\.conda\\envs\\tenserflow\\lib\\site-packages (from tensorboard~=2.5->tensorflow==2.5.0) (1.6.0)\n",
      "Requirement already satisfied: setuptools>=41.0.0 in c:\\users\\u1092599\\.conda\\envs\\tenserflow\\lib\\site-packages (from tensorboard~=2.5->tensorflow==2.5.0) (52.0.0.post20210125)\n",
      "Requirement already satisfied: werkzeug>=0.11.15 in c:\\users\\u1092599\\.conda\\envs\\tenserflow\\lib\\site-packages (from tensorboard~=2.5->tensorflow==2.5.0) (1.0.1)\n",
      "Requirement already satisfied: google-auth<2,>=1.6.3 in c:\\users\\u1092599\\.conda\\envs\\tenserflow\\lib\\site-packages (from tensorboard~=2.5->tensorflow==2.5.0) (1.30.1)\n",
      "Requirement already satisfied: requests<3,>=2.21.0 in c:\\users\\u1092599\\.conda\\envs\\tenserflow\\lib\\site-packages (from tensorboard~=2.5->tensorflow==2.5.0) (2.25.1)\n",
      "Requirement already satisfied: markdown>=2.6.8 in c:\\users\\u1092599\\.conda\\envs\\tenserflow\\lib\\site-packages (from tensorboard~=2.5->tensorflow==2.5.0) (3.3.4)\n",
      "Requirement already satisfied: tensorboard-data-server<0.7.0,>=0.6.0 in c:\\users\\u1092599\\.conda\\envs\\tenserflow\\lib\\site-packages (from tensorboard~=2.5->tensorflow==2.5.0) (0.6.1)\n",
      "Requirement already satisfied: google-auth-oauthlib<0.5,>=0.4.1 in c:\\users\\u1092599\\.conda\\envs\\tenserflow\\lib\\site-packages (from tensorboard~=2.5->tensorflow==2.5.0) (0.4.4)\n",
      "Requirement already satisfied: cachetools<5.0,>=2.0.0 in c:\\users\\u1092599\\.conda\\envs\\tenserflow\\lib\\site-packages (from google-auth<2,>=1.6.3->tensorboard~=2.5->tensorflow==2.5.0) (4.2.2)\n",
      "Requirement already satisfied: pyasn1-modules>=0.2.1 in c:\\users\\u1092599\\.conda\\envs\\tenserflow\\lib\\site-packages (from google-auth<2,>=1.6.3->tensorboard~=2.5->tensorflow==2.5.0) (0.2.8)\n",
      "Requirement already satisfied: rsa<5,>=3.1.4 in c:\\users\\u1092599\\.conda\\envs\\tenserflow\\lib\\site-packages (from google-auth<2,>=1.6.3->tensorboard~=2.5->tensorflow==2.5.0) (4.7.2)\n",
      "Requirement already satisfied: requests-oauthlib>=0.7.0 in c:\\users\\u1092599\\.conda\\envs\\tenserflow\\lib\\site-packages (from google-auth-oauthlib<0.5,>=0.4.1->tensorboard~=2.5->tensorflow==2.5.0) (1.3.0)\n",
      "Requirement already satisfied: pyasn1<0.5.0,>=0.4.6 in c:\\users\\u1092599\\.conda\\envs\\tenserflow\\lib\\site-packages (from pyasn1-modules>=0.2.1->google-auth<2,>=1.6.3->tensorboard~=2.5->tensorflow==2.5.0) (0.4.8)\n",
      "Requirement already satisfied: chardet<5,>=3.0.2 in c:\\users\\u1092599\\.conda\\envs\\tenserflow\\lib\\site-packages (from requests<3,>=2.21.0->tensorboard~=2.5->tensorflow==2.5.0) (3.0.4)\n",
      "Requirement already satisfied: idna<3,>=2.5 in c:\\users\\u1092599\\.conda\\envs\\tenserflow\\lib\\site-packages (from requests<3,>=2.21.0->tensorboard~=2.5->tensorflow==2.5.0) (2.10)\n",
      "Requirement already satisfied: certifi>=2017.4.17 in c:\\users\\u1092599\\.conda\\envs\\tenserflow\\lib\\site-packages (from requests<3,>=2.21.0->tensorboard~=2.5->tensorflow==2.5.0) (2021.5.30)\n",
      "Requirement already satisfied: urllib3<1.27,>=1.21.1 in c:\\users\\u1092599\\.conda\\envs\\tenserflow\\lib\\site-packages (from requests<3,>=2.21.0->tensorboard~=2.5->tensorflow==2.5.0) (1.26.4)\n",
      "Requirement already satisfied: oauthlib>=3.0.0 in c:\\users\\u1092599\\.conda\\envs\\tenserflow\\lib\\site-packages (from requests-oauthlib>=0.7.0->google-auth-oauthlib<0.5,>=0.4.1->tensorboard~=2.5->tensorflow==2.5.0) (3.1.0)\n",
      "Installing collected packages: grpcio, tensorflow-estimator, tensorboard, keras-nightly, h5py, gast, flatbuffers, tensorflow\n",
      "  Attempting uninstall: grpcio\n",
      "    Found existing installation: grpcio 1.36.1\n",
      "    Uninstalling grpcio-1.36.1:\n",
      "      Successfully uninstalled grpcio-1.36.1\n",
      "  Attempting uninstall: tensorflow-estimator\n",
      "    Found existing installation: tensorflow-estimator 2.3.0\n",
      "    Uninstalling tensorflow-estimator-2.3.0:\n",
      "      Successfully uninstalled tensorflow-estimator-2.3.0\n",
      "  Attempting uninstall: tensorboard\n",
      "    Found existing installation: tensorboard 2.4.0\n",
      "    Uninstalling tensorboard-2.4.0:\n",
      "      Successfully uninstalled tensorboard-2.4.0\n",
      "  Attempting uninstall: h5py\n",
      "    Found existing installation: h5py 2.10.0\n",
      "    Uninstalling h5py-2.10.0:\n",
      "      Successfully uninstalled h5py-2.10.0\n",
      "  Attempting uninstall: gast\n",
      "    Found existing installation: gast 0.3.3\n",
      "    Uninstalling gast-0.3.3:\n",
      "      Successfully uninstalled gast-0.3.3\n",
      "  Attempting uninstall: tensorflow\n",
      "    Found existing installation: tensorflow 2.3.0\n",
      "    Uninstalling tensorflow-2.3.0:\n",
      "      Successfully uninstalled tensorflow-2.3.0\n",
      "Successfully installed flatbuffers-1.12 gast-0.4.0 grpcio-1.34.1 h5py-3.1.0 keras-nightly-2.5.0.dev2021032900 tensorboard-2.5.0 tensorflow-2.5.0 tensorflow-estimator-2.5.0\n"
     ]
    }
   ],
   "source": [
    "pip install tensorflow==2.5.0"
   ]
  },
  {
   "cell_type": "code",
   "execution_count": 1,
   "id": "d23e4d24",
   "metadata": {},
   "outputs": [
    {
     "name": "stdout",
     "output_type": "stream",
     "text": [
      "Requirement already satisfied: tensorflow in c:\\users\\u1092599\\.conda\\envs\\tenserflow\\lib\\site-packages (2.3.0)Note: you may need to restart the kernel to use updated packages.\n",
      "\n",
      "Requirement already satisfied: wheel>=0.26 in c:\\users\\u1092599\\.conda\\envs\\tenserflow\\lib\\site-packages (from tensorflow) (0.36.2)\n",
      "Requirement already satisfied: gast==0.3.3 in c:\\users\\u1092599\\.conda\\envs\\tenserflow\\lib\\site-packages (from tensorflow) (0.3.3)\n",
      "Requirement already satisfied: numpy<1.19.0,>=1.16.0 in c:\\users\\u1092599\\.conda\\envs\\tenserflow\\lib\\site-packages (from tensorflow) (1.18.5)\n",
      "Requirement already satisfied: scipy==1.4.1 in c:\\users\\u1092599\\.conda\\envs\\tenserflow\\lib\\site-packages (from tensorflow) (1.4.1)\n",
      "Requirement already satisfied: h5py<2.11.0,>=2.10.0 in c:\\users\\u1092599\\.conda\\envs\\tenserflow\\lib\\site-packages (from tensorflow) (2.10.0)\n",
      "Requirement already satisfied: opt-einsum>=2.3.2 in c:\\users\\u1092599\\.conda\\envs\\tenserflow\\lib\\site-packages (from tensorflow) (3.3.0)\n",
      "Requirement already satisfied: protobuf>=3.9.2 in c:\\users\\u1092599\\.conda\\envs\\tenserflow\\lib\\site-packages (from tensorflow) (3.14.0)\n",
      "Requirement already satisfied: tensorflow-estimator<2.4.0,>=2.3.0 in c:\\users\\u1092599\\.conda\\envs\\tenserflow\\lib\\site-packages (from tensorflow) (2.3.0)\n",
      "Requirement already satisfied: termcolor>=1.1.0 in c:\\users\\u1092599\\.conda\\envs\\tenserflow\\lib\\site-packages (from tensorflow) (1.1.0)\n",
      "Requirement already satisfied: google-pasta>=0.1.8 in c:\\users\\u1092599\\.conda\\envs\\tenserflow\\lib\\site-packages (from tensorflow) (0.2.0)\n",
      "Requirement already satisfied: astunparse==1.6.3 in c:\\users\\u1092599\\.conda\\envs\\tenserflow\\lib\\site-packages (from tensorflow) (1.6.3)\n",
      "Requirement already satisfied: wrapt>=1.11.1 in c:\\users\\u1092599\\.conda\\envs\\tenserflow\\lib\\site-packages (from tensorflow) (1.12.1)\n",
      "Requirement already satisfied: six>=1.12.0 in c:\\users\\u1092599\\.conda\\envs\\tenserflow\\lib\\site-packages (from tensorflow) (1.15.0)\n",
      "Requirement already satisfied: keras-preprocessing<1.2,>=1.1.1 in c:\\users\\u1092599\\.conda\\envs\\tenserflow\\lib\\site-packages (from tensorflow) (1.1.2)\n",
      "Requirement already satisfied: tensorboard<3,>=2.3.0 in c:\\users\\u1092599\\.conda\\envs\\tenserflow\\lib\\site-packages (from tensorflow) (2.4.0)\n",
      "Requirement already satisfied: absl-py>=0.7.0 in c:\\users\\u1092599\\.conda\\envs\\tenserflow\\lib\\site-packages (from tensorflow) (0.12.0)\n",
      "Requirement already satisfied: grpcio>=1.8.6 in c:\\users\\u1092599\\.conda\\envs\\tenserflow\\lib\\site-packages (from tensorflow) (1.36.1)\n",
      "Requirement already satisfied: google-auth<2,>=1.6.3 in c:\\users\\u1092599\\.conda\\envs\\tenserflow\\lib\\site-packages (from tensorboard<3,>=2.3.0->tensorflow) (1.30.1)\n",
      "Requirement already satisfied: tensorboard-plugin-wit>=1.6.0 in c:\\users\\u1092599\\.conda\\envs\\tenserflow\\lib\\site-packages (from tensorboard<3,>=2.3.0->tensorflow) (1.6.0)\n",
      "Requirement already satisfied: werkzeug>=0.11.15 in c:\\users\\u1092599\\.conda\\envs\\tenserflow\\lib\\site-packages (from tensorboard<3,>=2.3.0->tensorflow) (1.0.1)\n",
      "Requirement already satisfied: markdown>=2.6.8 in c:\\users\\u1092599\\.conda\\envs\\tenserflow\\lib\\site-packages (from tensorboard<3,>=2.3.0->tensorflow) (3.3.4)\n",
      "Requirement already satisfied: setuptools>=41.0.0 in c:\\users\\u1092599\\.conda\\envs\\tenserflow\\lib\\site-packages (from tensorboard<3,>=2.3.0->tensorflow) (52.0.0.post20210125)\n",
      "Requirement already satisfied: requests<3,>=2.21.0 in c:\\users\\u1092599\\.conda\\envs\\tenserflow\\lib\\site-packages (from tensorboard<3,>=2.3.0->tensorflow) (2.25.1)\n",
      "Requirement already satisfied: google-auth-oauthlib<0.5,>=0.4.1 in c:\\users\\u1092599\\.conda\\envs\\tenserflow\\lib\\site-packages (from tensorboard<3,>=2.3.0->tensorflow) (0.4.4)\n",
      "Requirement already satisfied: cachetools<5.0,>=2.0.0 in c:\\users\\u1092599\\.conda\\envs\\tenserflow\\lib\\site-packages (from google-auth<2,>=1.6.3->tensorboard<3,>=2.3.0->tensorflow) (4.2.2)\n",
      "Requirement already satisfied: pyasn1-modules>=0.2.1 in c:\\users\\u1092599\\.conda\\envs\\tenserflow\\lib\\site-packages (from google-auth<2,>=1.6.3->tensorboard<3,>=2.3.0->tensorflow) (0.2.8)\n",
      "Requirement already satisfied: rsa<5,>=3.1.4 in c:\\users\\u1092599\\.conda\\envs\\tenserflow\\lib\\site-packages (from google-auth<2,>=1.6.3->tensorboard<3,>=2.3.0->tensorflow) (4.7.2)\n",
      "Requirement already satisfied: requests-oauthlib>=0.7.0 in c:\\users\\u1092599\\.conda\\envs\\tenserflow\\lib\\site-packages (from google-auth-oauthlib<0.5,>=0.4.1->tensorboard<3,>=2.3.0->tensorflow) (1.3.0)\n",
      "Requirement already satisfied: pyasn1<0.5.0,>=0.4.6 in c:\\users\\u1092599\\.conda\\envs\\tenserflow\\lib\\site-packages (from pyasn1-modules>=0.2.1->google-auth<2,>=1.6.3->tensorboard<3,>=2.3.0->tensorflow) (0.4.8)\n",
      "Requirement already satisfied: chardet<5,>=3.0.2 in c:\\users\\u1092599\\.conda\\envs\\tenserflow\\lib\\site-packages (from requests<3,>=2.21.0->tensorboard<3,>=2.3.0->tensorflow) (3.0.4)\n",
      "Requirement already satisfied: certifi>=2017.4.17 in c:\\users\\u1092599\\.conda\\envs\\tenserflow\\lib\\site-packages (from requests<3,>=2.21.0->tensorboard<3,>=2.3.0->tensorflow) (2021.5.30)\n",
      "Requirement already satisfied: idna<3,>=2.5 in c:\\users\\u1092599\\.conda\\envs\\tenserflow\\lib\\site-packages (from requests<3,>=2.21.0->tensorboard<3,>=2.3.0->tensorflow) (2.10)\n",
      "Requirement already satisfied: urllib3<1.27,>=1.21.1 in c:\\users\\u1092599\\.conda\\envs\\tenserflow\\lib\\site-packages (from requests<3,>=2.21.0->tensorboard<3,>=2.3.0->tensorflow) (1.26.4)\n",
      "Requirement already satisfied: oauthlib>=3.0.0 in c:\\users\\u1092599\\.conda\\envs\\tenserflow\\lib\\site-packages (from requests-oauthlib>=0.7.0->google-auth-oauthlib<0.5,>=0.4.1->tensorboard<3,>=2.3.0->tensorflow) (3.1.0)\n"
     ]
    }
   ],
   "source": [
    "pip install tensorflow"
   ]
  },
  {
   "cell_type": "code",
   "execution_count": 1,
   "id": "e5e13690",
   "metadata": {},
   "outputs": [
    {
     "name": "stdout",
     "output_type": "stream",
     "text": [
      "Number of input files :  10"
     ]
    },
    {
     "name": "stderr",
     "output_type": "stream",
     "text": [
      "C:\\Users\\u1092599\\Desktop\\chargridDemo\\ChargridTF\\data_pipeline\\preprocessing.py:158: DeprecationWarning: Flags not at the start of the expression '((?i)(?:[12][0-9]|3[' (truncated)\n",
      "  tab_date = re.findall("
     ]
    },
    {
     "name": "stdout",
     "output_type": "stream",
     "text": [
      "\n",
      "Figure(640x480)\n",
      "Figure(640x480)\n",
      "Figure(640x480)\n",
      "Figure(640x480)\n",
      "Figure(640x480)\n",
      "Figure(640x480)\n",
      "Figure(640x480)\n",
      "Figure(640x480)\n",
      "Figure(640x480)\n",
      "Figure(640x480)\n"
     ]
    },
    {
     "name": "stderr",
     "output_type": "stream",
     "text": [
      "\n"
     ]
    }
   ],
   "source": [
    "!python -m data_pipeline.preprocessing"
   ]
  },
  {
   "cell_type": "code",
   "execution_count": 3,
   "id": "ef2522dc",
   "metadata": {},
   "outputs": [
    {
     "name": "stdout",
     "output_type": "stream",
     "text": [
      "final reduce_y =  5 padding_t =  0 padding_b =  0 000.npy\n",
      "final reduce_x =  5 padding_l =  2 padding_r =  2 000.npy\n",
      "Figure(640x480)\n",
      "Figure(640x480)\n",
      "Figure(640x480)\n",
      "final reduce_y =  5 padding_t =  2 padding_b =  1 001.npy\n",
      "final reduce_x =  4 padding_l =  1 padding_r =  0 001.npy\n",
      "Figure(640x480)\n",
      "Figure(640x480)\n",
      "Figure(640x480)\n",
      "final reduce_y =  4 padding_t =  0 padding_b =  0 002.npy\n",
      "final reduce_x =  4 padding_l =  1 padding_r =  0 002.npy\n",
      "Figure(640x480)\n",
      "Figure(640x480)\n",
      "Figure(640x480)\n",
      "final reduce_y =  5 padding_t =  1 padding_b =  1 003.npy\n",
      "final reduce_x =  5 padding_l =  1 padding_r =  0 003.npy\n",
      "Figure(640x480)\n",
      "Figure(640x480)\n",
      "Figure(640x480)\n",
      "final reduce_y =  5 padding_t =  1 padding_b =  0 004.npy\n",
      "final reduce_x =  5 padding_l =  1 padding_r =  1 004.npy\n",
      "Figure(640x480)\n",
      "Figure(640x480)\n",
      "Figure(640x480)\n",
      "final reduce_y =  5 padding_t =  0 padding_b =  0 005.npy\n",
      "final reduce_x =  5 padding_l =  2 padding_r =  2 005.npy\n",
      "Figure(640x480)\n",
      "Figure(640x480)\n",
      "Figure(640x480)\n",
      "final reduce_y =  5 padding_t =  1 padding_b =  1 006.npy\n",
      "final reduce_x =  5 padding_l =  1 padding_r =  1 006.npy\n",
      "Figure(640x480)\n",
      "Figure(640x480)\n",
      "Figure(640x480)\n",
      "final reduce_y =  5 padding_t =  1 padding_b =  1 007.npy\n",
      "final reduce_x =  4 padding_l =  1 padding_r =  1 007.npy\n",
      "Figure(640x480)\n",
      "Figure(640x480)\n",
      "Figure(640x480)\n",
      "final reduce_y =  4 padding_t =  1 padding_b =  0 008.npy\n",
      "final reduce_x =  4 padding_l =  1 padding_r =  0 008.npy\n",
      "Figure(640x480)\n",
      "Figure(640x480)\n",
      "Figure(640x480)\n",
      "final reduce_y =  7 padding_t =  2 padding_b =  2 009.npy\n",
      "final reduce_x =  6 padding_l =  0 padding_r =  0 009.npy\n",
      "Figure(640x480)\n",
      "Figure(640x480)\n",
      "Figure(640x480)\n"
     ]
    }
   ],
   "source": [
    "!python -m data_pipeline.preprocessing_bis"
   ]
  },
  {
   "cell_type": "code",
   "execution_count": 4,
   "id": "b4a68c78",
   "metadata": {},
   "outputs": [
    {
     "name": "stdout",
     "output_type": "stream",
     "text": [
      "tab_img shape= (10,)\n"
     ]
    },
    {
     "name": "stderr",
     "output_type": "stream",
     "text": [
      "C:\\Users\\u1092599\\.conda\\envs\\pytorch\\lib\\site-packages\\numpy\\core\\_asarray.py:83: VisibleDeprecationWarning: Creating an ndarray from ragged nested sequences (which is a list-or-tuple of lists-or-tuples-or ndarrays with different lengths or shapes) is deprecated. If you meant to do this, you must specify 'dtype=object' when creating the ndarray\n",
      "  return array(a, dtype, copy=False, order=order)\n"
     ]
    },
    {
     "name": "stdout",
     "output_type": "stream",
     "text": [
      "tab_gt shape= (10,)\n",
      "image_1h_shape (256, 128, 61)\n",
      "gt_1h_shape (256, 128, 5)\n",
      "bbox_anchor_mask (256, 128, 8)\n",
      "bbox_anchor_coord (256, 128, 16)\n",
      "Figure(640x480)\n",
      "image_1h_shape (256, 128, 61)\n",
      "gt_1h_shape (256, 128, 5)\n",
      "bbox_anchor_mask (256, 128, 8)\n",
      "bbox_anchor_coord (256, 128, 16)\n",
      "Figure(640x480)\n",
      "Figure(640x480)\n",
      "image_1h_shape (256, 128, 61)\n",
      "gt_1h_shape (256, 128, 5)\n",
      "bbox_anchor_mask (256, 128, 8)\n",
      "bbox_anchor_coord (256, 128, 16)\n",
      "Figure(640x480)\n",
      "Figure(640x480)\n",
      "image_1h_shape (256, 128, 61)\n",
      "gt_1h_shape (256, 128, 5)\n",
      "bbox_anchor_mask (256, 128, 8)\n",
      "bbox_anchor_coord (256, 128, 16)\n",
      "Figure(640x480)\n",
      "Figure(640x480)\n",
      "image_1h_shape (256, 128, 61)\n",
      "gt_1h_shape (256, 128, 5)\n",
      "bbox_anchor_mask (256, 128, 8)\n",
      "bbox_anchor_coord (256, 128, 16)\n",
      "Figure(640x480)\n",
      "Figure(640x480)\n",
      "image_1h_shape (256, 128, 61)\n",
      "gt_1h_shape (256, 128, 5)\n",
      "bbox_anchor_mask (256, 128, 8)\n",
      "bbox_anchor_coord (256, 128, 16)\n",
      "Figure(640x480)\n",
      "Figure(640x480)\n",
      "image_1h_shape (256, 128, 61)\n",
      "gt_1h_shape (256, 128, 5)\n",
      "bbox_anchor_mask (256, 128, 8)\n",
      "bbox_anchor_coord (256, 128, 16)\n",
      "Figure(640x480)\n",
      "Figure(640x480)\n",
      "image_1h_shape (256, 128, 61)\n",
      "gt_1h_shape (256, 128, 5)\n",
      "bbox_anchor_mask (256, 128, 8)\n",
      "bbox_anchor_coord (256, 128, 16)\n",
      "Figure(640x480)\n",
      "Figure(640x480)\n",
      "image_1h_shape (256, 128, 61)\n",
      "gt_1h_shape (256, 128, 5)\n",
      "bbox_anchor_mask (256, 128, 8)\n",
      "bbox_anchor_coord (256, 128, 16)\n",
      "Figure(640x480)\n",
      "Figure(640x480)\n",
      "image_1h_shape (256, 128, 61)\n",
      "gt_1h_shape (256, 128, 5)\n",
      "bbox_anchor_mask (256, 128, 8)\n",
      "bbox_anchor_coord (256, 128, 16)\n",
      "Figure(640x480)\n",
      "Figure(640x480)\n"
     ]
    }
   ],
   "source": [
    "!python -m data_pipeline.preprocessing_ter"
   ]
  },
  {
   "cell_type": "code",
   "execution_count": 3,
   "id": "1df6e740",
   "metadata": {},
   "outputs": [
    {
     "name": "stdout",
     "output_type": "stream",
     "text": [
      "[name: \"/device:CPU:0\""
     ]
    },
    {
     "name": "stderr",
     "output_type": "stream",
     "text": [
      "2021-06-30 12:50:59.710690: W tensorflow/stream_executor/platform/default/dso_loader.cc:64] Could not load dynamic library 'cudart64_110.dll'; dlerror: cudart64_110.dll not found\n",
      "2021-06-30 12:50:59.712281: I tensorflow/stream_executor/cuda/cudart_stub.cc:29] Ignore above cudart dlerror if you do not have a GPU set up on your machine.\n",
      "2021-06-30 12:51:47.782721: I tensorflow/core/platform/cpu_feature_guard.cc:142] This TensorFlow binary is optimized with oneAPI Deep Neural Network Library (oneDNN) to use the following CPU instructions in performance-critical operations:  AVX AVX2\n",
      "To enable them in other operations, rebuild TensorFlow with the appropriate compiler flags.\n",
      "2021-06-30 12:51:47.891274: W tensorflow/stream_executor/platform/default/dso_loader.cc:64] Could not load dynamic library 'nvcuda.dll'; dlerror: nvcuda.dll not found\n",
      "2021-06-30 12:51:47.892091: W tensorflow/stream_executor/cuda/cuda_driver.cc:326] failed call to cuInit: UNKNOWN ERROR (303)\n",
      "2021-06-30 12:51:48.150046: I tensorflow/stream_executor/cuda/cuda_diagnostics.cc:169] retrieving CUDA diagnostic information for host: INBGL1WLX46054\n",
      "2021-06-30 12:51:48.151279: I tensorflow/stream_executor/cuda/cuda_diagnostics.cc:176] hostname: INBGL1WLX46054\n",
      "Traceback (most recent call last):\n",
      "  File \"network.py\", line 599, in <module>\n",
      "    net = initialize_network(sample_weight_seg, sample_weight_boxmask)\n",
      "  File \"network.py\", line 480, in initialize_network\n",
      "    net.compile(optimizer=tf.keras.optimizers.SGD(learning_rate=learning_rate, momentum=momentum, nesterov=False), loss=losses, sample_weight=sample_weights)\n",
      "  File \"C:\\Users\\u1092599\\.conda\\envs\\tenserflow\\lib\\site-packages\\tensorflow\\python\\keras\\engine\\training.py\", line 570, in compile\n",
      "    self._validate_compile(optimizer, metrics, **kwargs)\n",
      "  File \"C:\\Users\\u1092599\\.conda\\envs\\tenserflow\\lib\\site-packages\\tensorflow\\python\\keras\\engine\\training.py\", line 2620, in _validate_compile\n",
      "    raise TypeError('Invalid keyword argument(s) in `compile`: %s' %\n",
      "TypeError: Invalid keyword argument(s) in `compile`: {'sample_weight'}\n"
     ]
    },
    {
     "name": "stdout",
     "output_type": "stream",
     "text": [
      "\n",
      "device_type: \"CPU\"\n",
      "memory_limit: 268435456\n",
      "locality {\n",
      "}\n",
      "incarnation: 11721031692671209039\n",
      "]\n",
      "Tensorflow version:  2.5.0\n",
      "Test GPU:  \n",
      "trainset:  8  - testset:  2\n"
     ]
    }
   ],
   "source": [
    "!python network.py"
   ]
  },
  {
   "cell_type": "code",
   "execution_count": null,
   "id": "53f3abac",
   "metadata": {},
   "outputs": [],
   "source": []
  }
 ],
 "metadata": {
  "kernelspec": {
   "display_name": "Python 3",
   "language": "python",
   "name": "python3"
  },
  "language_info": {
   "codemirror_mode": {
    "name": "ipython",
    "version": 3
   },
   "file_extension": ".py",
   "mimetype": "text/x-python",
   "name": "python",
   "nbconvert_exporter": "python",
   "pygments_lexer": "ipython3",
   "version": "3.8.10"
  }
 },
 "nbformat": 4,
 "nbformat_minor": 5
}
